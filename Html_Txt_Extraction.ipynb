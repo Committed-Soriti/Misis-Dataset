{
 "cells": [
  {
   "cell_type": "code",
   "execution_count": null,
   "id": "29adee76",
   "metadata": {},
   "outputs": [],
   "source": [
    "import requests\n",
    "import os\n",
    "\n",
    "# Создайте директорию для сохранения HTML-файлов, если ее еще нет\n",
    "if not os.path.exists(\"html_files\"):\n",
    "    os.mkdir(\"html_files\")\n",
    "\n",
    "# Откройте файл с URL-ами\n",
    "with open(\"misis_all_links.txt\", \"r\", encoding=\"utf-16\") as file:\n",
    "    websites = [line.strip() for line in file if line.strip()]\n",
    "\n",
    "# Итерируйтесь по списку сайтов и загружайте HTML-код\n",
    "for index, website in enumerate(websites, start=1):\n",
    "    try:\n",
    "        response = requests.get(website)\n",
    "        response.raise_for_status()  # Проверка на ошибки\n",
    "\n",
    "        # Сохраните HTML-код в текстовый файл\n",
    "        with open(f\"html_files/website_{index}.html\", \"w\", encoding=\"utf-8\") as html_file:\n",
    "            html_file.write(response.text)\n",
    "\n",
    "        print(f\"HTML для {website} успешно сохранен.\")\n",
    "    except requests.exceptions.RequestException as e:\n",
    "        print(f\"Ошибка при получении HTML для {website}: {str(e)}\")\n",
    "    except Exception as e:\n",
    "        print(f\"Ошибка при сохранении HTML для {website}: {str(e)}\")\n",
    "\n",
    "print(\"Все HTML-файлы сохранены.\")\n"
   ]
  },
  {
   "cell_type": "code",
   "execution_count": null,
   "id": "597c5023",
   "metadata": {},
   "outputs": [],
   "source": [
    "from bs4 import BeautifulSoup\n",
    "import os\n",
    "\n",
    "# Создайте директорию для текстовых файлов, если ее еще нет\n",
    "if not os.path.exists(\"text_files\"):\n",
    "    os.mkdir(\"text_files\")\n",
    "\n",
    "# Итерируйтесь по HTML-файлам\n",
    "for filename in os.listdir(\"html_files\"):\n",
    "    if filename.endswith(\".html\"):\n",
    "        with open(os.path.join(\"html_files\", filename), \"r\", encoding=\"utf-8\") as html_file:\n",
    "            html_content = html_file.read()\n",
    "\n",
    "        # Используйте BeautifulSoup для извлечения текста без разметки\n",
    "        soup = BeautifulSoup(html_content, \"html.parser\")\n",
    "        text_content = soup.get_text()\n",
    "\n",
    "        # Сохраните текст в отдельный текстовый файл\n",
    "        output_filename = os.path.join(\"text_files\", filename.replace(\".html\", \".txt\"))\n",
    "        with open(output_filename, \"w\", encoding=\"utf-8\") as text_file:\n",
    "            text_file.write(text_content)\n",
    "\n",
    "        print(f\"Текст для {filename} успешно сохранен в {output_filename}.\")\n",
    "\n",
    "print(\"Все текстовые файлы сохранены.\")"
   ]
  },
  {
   "cell_type": "code",
   "execution_count": null,
   "id": "fa7b799b",
   "metadata": {},
   "outputs": [],
   "source": [
    "import shutil\n",
    "\n",
    "source_folder_text = \"text_files\"\n",
    "destination_folder_text = \"C:/txts\"\n",
    "source_folder_html = \"html_files\"\n",
    "destination_folder_html = \"C:/htmls\"\n",
    "\n",
    "# Для копирования всей папки и ее содержимого\n",
    "shutil.copytree(source_folder_text, destination_folder_text)\n",
    "shutil.copytree(source_folder_html, destination_folder_html)"
   ]
  }
 ],
 "metadata": {
  "kernelspec": {
   "display_name": "Python 3 (ipykernel)",
   "language": "python",
   "name": "python3"
  },
  "language_info": {
   "codemirror_mode": {
    "name": "ipython",
    "version": 3
   },
   "file_extension": ".py",
   "mimetype": "text/x-python",
   "name": "python",
   "nbconvert_exporter": "python",
   "pygments_lexer": "ipython3",
   "version": "3.11.5"
  }
 },
 "nbformat": 4,
 "nbformat_minor": 5
}
